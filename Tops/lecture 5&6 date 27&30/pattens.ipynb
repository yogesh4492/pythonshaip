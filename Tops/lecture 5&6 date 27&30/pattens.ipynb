{
 "cells": [
  {
   "cell_type": "code",
   "execution_count": 1,
   "id": "af61f524",
   "metadata": {},
   "outputs": [
    {
     "name": "stdout",
     "output_type": "stream",
     "text": [
      "* \n",
      "* * \n",
      "* * * \n",
      "* * * * \n",
      "* * * * * \n"
     ]
    }
   ],
   "source": [
    "for i in range(1,6):\n",
    "    for j in range(1,i+1):\n",
    "        print(\"*\",end=\" \")\n",
    "    print()"
   ]
  },
  {
   "cell_type": "code",
   "execution_count": 7,
   "id": "bee069cf",
   "metadata": {},
   "outputs": [
    {
     "name": "stdout",
     "output_type": "stream",
     "text": [
      "* * * * * \n",
      "*       * \n",
      "*       * \n",
      "*       * \n",
      "* * * * * \n"
     ]
    }
   ],
   "source": [
    "row=int(input(\"Enter Row= \"))\n",
    "for i in range(1,row+1):\n",
    "    for j in range(1,row+1):\n",
    "        if i==1 or i==row or j==1 or j==row:\n",
    "            print(\"*\",end=\" \")\n",
    "        else:\n",
    "            print(end=\"  \")\n",
    "    print()"
   ]
  },
  {
   "cell_type": "code",
   "execution_count": 8,
   "id": "0e588008",
   "metadata": {},
   "outputs": [
    {
     "name": "stdout",
     "output_type": "stream",
     "text": [
      "* \n",
      "* * \n",
      "*   * \n",
      "*     * \n",
      "* * * * * \n"
     ]
    }
   ],
   "source": [
    "row=int(input(\"Enter Row= \"))\n",
    "for i in range(1,row+1):\n",
    "    for j in range(1,i+1):\n",
    "        if i==1 or i==row or j==i or j==1:\n",
    "            print(\"*\",end=\" \")\n",
    "        else:\n",
    "            print(end=\"  \")\n",
    "    print()"
   ]
  },
  {
   "cell_type": "code",
   "execution_count": 9,
   "id": "be6032da",
   "metadata": {},
   "outputs": [
    {
     "name": "stdout",
     "output_type": "stream",
     "text": [
      "    * \n",
      "   * * \n",
      "  * * * \n",
      " * * * * \n",
      "* * * * * \n"
     ]
    }
   ],
   "source": [
    "row=int(input(\"Enter Row= \"))\n",
    "spc=row-1\n",
    "for i in range(1,row+1):\n",
    "    for k in range(1,spc+1):\n",
    "        print(end=\" \")\n",
    "    for j in range(1,i+1):\n",
    "        print(\"*\",end=\" \")\n",
    "    print()\n",
    "    spc-=1\n"
   ]
  },
  {
   "cell_type": "code",
   "execution_count": 10,
   "id": "f3edd47d",
   "metadata": {},
   "outputs": [
    {
     "name": "stdout",
     "output_type": "stream",
     "text": [
      "    * \n",
      "   * * \n",
      "  *   * \n",
      " *     * \n",
      "* * * * * \n"
     ]
    }
   ],
   "source": [
    "row=int(input(\"Enter Row= \"))\n",
    "spc=row-1\n",
    "for i in range(1,row+1):\n",
    "    for k in range(1,spc+1):\n",
    "        print(end=\" \")\n",
    "    for j in range(1,i+1):\n",
    "        if i==1 or i==row or j==i or j==1:\n",
    "            print(\"*\",end=\" \")\n",
    "        else:\n",
    "            print(end=\"  \")\n",
    "    print()\n",
    "    spc-=1"
   ]
  },
  {
   "cell_type": "code",
   "execution_count": 13,
   "id": "7e8c4e93",
   "metadata": {},
   "outputs": [
    {
     "name": "stdout",
     "output_type": "stream",
     "text": [
      "        * \n",
      "      * * \n",
      "    * * * \n",
      "  * * * * \n",
      "* * * * * \n"
     ]
    }
   ],
   "source": [
    "row=int(input(\"Enter Row= \"))\n",
    "spc=row-1\n",
    "for i in range(1,row+1):\n",
    "    for k in range(1,spc*2+1):\n",
    "        print(end=\" \")\n",
    "    for j in range(1,i+1):\n",
    "        print(\"*\",end=\" \")\n",
    "    print()\n",
    "    spc-=1"
   ]
  },
  {
   "cell_type": "code",
   "execution_count": 14,
   "id": "df32a495",
   "metadata": {},
   "outputs": [
    {
     "name": "stdout",
     "output_type": "stream",
     "text": [
      "        * \n",
      "      * * \n",
      "    *   * \n",
      "  *     * \n",
      "* * * * * \n"
     ]
    }
   ],
   "source": [
    "row=int(input(\"Enter Row= \"))\n",
    "spc=row-1\n",
    "for i in range(1,row+1):\n",
    "    for k in range(1,spc*2+1):\n",
    "        print(end=\" \")\n",
    "    for j in range(1,i+1):\n",
    "        if i==1 or i==row or j==1 or j==i:\n",
    "            print(\"*\",end=\" \")\n",
    "        else:\n",
    "            print(end=\"  \")\n",
    "    print()\n",
    "    spc-=1"
   ]
  },
  {
   "cell_type": "code",
   "execution_count": 16,
   "id": "79fc50df",
   "metadata": {},
   "outputs": [
    {
     "name": "stdout",
     "output_type": "stream",
     "text": [
      "* \n",
      "* * \n",
      "* * * \n",
      "* * * * \n",
      "* * * * * \n",
      "* * * * \n",
      "* * * \n",
      "* * \n",
      "* \n"
     ]
    }
   ],
   "source": [
    "row=int(input(\"Enter Row= \"))\n",
    "for i in range(1,row+1):\n",
    "    for j in range(1,i+1):\n",
    "        print(\"*\",end=\" \")\n",
    "    print()\n",
    "for i in range(row-1,0,-1):\n",
    "    for j in range(1,i+1):\n",
    "        print(\"*\",end=\" \")\n",
    "    print()"
   ]
  },
  {
   "cell_type": "code",
   "execution_count": 21,
   "id": "55fd8a7e",
   "metadata": {},
   "outputs": [
    {
     "name": "stdout",
     "output_type": "stream",
     "text": [
      "* \n",
      "* * \n",
      "*   * \n",
      "*     * \n",
      "* * * * * \n",
      "*     * \n",
      "*   * \n",
      "* * \n",
      "* \n"
     ]
    }
   ],
   "source": [
    "row=int(input(\"Enter Row= \"))\n",
    "for i in range(1,row+1):\n",
    "    for j in range(1,i+1):\n",
    "        if i==1 or i==row or j==1 or j==i:\n",
    "            print(\"*\",end=\" \")\n",
    "        else:\n",
    "            print(end=\"  \")\n",
    "    print()\n",
    "for i in range(row-1,0,-1):\n",
    "    for j in range(1,i+1):\n",
    "        if i==1 or i==row or j==i or j==1:\n",
    "             print(\"*\",end=\" \")\n",
    "        else:\n",
    "            print(end=\"  \")\n",
    "    print()"
   ]
  },
  {
   "cell_type": "code",
   "execution_count": 20,
   "id": "ee8474ec",
   "metadata": {},
   "outputs": [
    {
     "name": "stdout",
     "output_type": "stream",
     "text": [
      "    * \n",
      "   * * \n",
      "  *   * \n",
      " *     * \n",
      "* * * * * \n",
      " *     * \n",
      "  *   * \n",
      "   * * \n",
      "    * \n"
     ]
    }
   ],
   "source": [
    "row=int(input(\"Enter Row= \"))\n",
    "spc=row-1\n",
    "for i in range(1,row+1):\n",
    "    for k in range(1,spc+1):\n",
    "        print(end=\" \")\n",
    "    for j in range(1,i+1):\n",
    "        if i==1 or i==row or j==1 or j==i:\n",
    "            print(\"*\",end=\" \")\n",
    "        else:\n",
    "            print(end=\"  \")\n",
    "    print()\n",
    "    spc-=1\n",
    "spc=1\n",
    "for i in range(row-1,0,-1):\n",
    "    for k in range(1,spc+1):\n",
    "        print(end=\" \")\n",
    "    for j in  range(1,i+1):\n",
    "        if i==1 or i==row or j==1 or j==i:\n",
    "            print(\"*\",end=\" \")\n",
    "        else:\n",
    "            print(end=\"  \")\n",
    "    print()\n",
    "    spc+=1"
   ]
  },
  {
   "cell_type": "code",
   "execution_count": 34,
   "id": "551ec252",
   "metadata": {},
   "outputs": [
    {
     "name": "stdout",
     "output_type": "stream",
     "text": [
      "        *   \n",
      "      *   *   \n",
      "    *   *   *   \n",
      "  *   *   *   *   \n",
      "*   *   *   *   *   \n",
      "  *   *   *   *   \n",
      "    *   *   *   \n",
      "      *   *   \n",
      "        *   \n"
     ]
    }
   ],
   "source": [
    "row=int(input(\"Enter Row= \"))\n",
    "spc=row-1\n",
    "for i in range(1,row+1):\n",
    "    for k in range(1,spc+1):\n",
    "        print(end=\"  \")\n",
    "    for j in range(1,i+1):\n",
    "        # if i==1 or i==row or j==1 or j==i:\n",
    "        print(\"* \",end=\"  \")\n",
    "\n",
    "    print()\n",
    "    spc-=1\n",
    "spc=1\n",
    "for i in range(row-1,0,-1):\n",
    "    for k in range(1,spc+1):\n",
    "        print(end=\"  \")\n",
    "    for j in  range(1,i+1):\n",
    "        # if i==1 or i==row or j==1 or j==i:\n",
    "        print(\"* \",end=\"  \")\n",
    "        # else:\n",
    "        #     print(end=\"  \")\n",
    "    print()\n",
    "    spc+=1"
   ]
  },
  {
   "cell_type": "code",
   "execution_count": null,
   "id": "5ffcb2e6",
   "metadata": {},
   "outputs": [],
   "source": []
  }
 ],
 "metadata": {
  "kernelspec": {
   "display_name": "Python 3",
   "language": "python",
   "name": "python3"
  },
  "language_info": {
   "codemirror_mode": {
    "name": "ipython",
    "version": 3
   },
   "file_extension": ".py",
   "mimetype": "text/x-python",
   "name": "python",
   "nbconvert_exporter": "python",
   "pygments_lexer": "ipython3",
   "version": "3.10.12"
  }
 },
 "nbformat": 4,
 "nbformat_minor": 5
}
