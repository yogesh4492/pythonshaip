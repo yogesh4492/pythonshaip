{
 "cells": [
  {
   "cell_type": "code",
   "execution_count": 1,
   "id": "9047a8a8",
   "metadata": {},
   "outputs": [
    {
     "data": {
      "text/plain": [
       "' while loop : while loop is an entry conditrol condition based loop  when we does not no how many times loop will execute then we use while loop\\n\\nsyntax:\\n\\ninitialization\\nwhile condition:\\n    statrement \\n    updation\\n\\n    \\n\\n'"
      ]
     },
     "execution_count": 1,
     "metadata": {},
     "output_type": "execute_result"
    }
   ],
   "source": [
    "\"\"\" while loop : while loop is an entry conditrol condition based loop  when we does not no how many times loop will execute then we use while loop\n",
    "\n",
    "syntax:\n",
    "\n",
    "initialization\n",
    "while condition:\n",
    "    statrement \n",
    "    updation\n",
    "\n",
    "    \n",
    "\n",
    "\"\"\""
   ]
  },
  {
   "cell_type": "code",
   "execution_count": 7,
   "id": "23cdc7c3",
   "metadata": {},
   "outputs": [
    {
     "name": "stdout",
     "output_type": "stream",
     "text": [
      "1 2 3 4 5 \n",
      "5 4 3 2 1 "
     ]
    }
   ],
   "source": [
    "num=1\n",
    "while num<=5:\n",
    "    print(f\"{num}\",end=\" \")\n",
    "    num+=1\n",
    "print()\n",
    "num=5\n",
    "while num>=1:\n",
    "    print(num,end=\" \")\n",
    "    num-=1\n",
    "\n"
   ]
  },
  {
   "cell_type": "code",
   "execution_count": 14,
   "id": "4d7d727f",
   "metadata": {},
   "outputs": [],
   "source": [
    "status=True\n",
    "while status:\n",
    "    num=int(input(\"Enter A Number=  \"))\n",
    "    choice=input(\"Press Y To Continue\")\n",
    "    if choice!='Y' or choice!='y':\n",
    "        status=False"
   ]
  },
  {
   "cell_type": "code",
   "execution_count": null,
   "id": "3e3ab96d",
   "metadata": {},
   "outputs": [],
   "source": []
  },
  {
   "cell_type": "code",
   "execution_count": null,
   "id": "67c7911b",
   "metadata": {},
   "outputs": [],
   "source": []
  },
  {
   "cell_type": "code",
   "execution_count": null,
   "id": "5abf7f69",
   "metadata": {},
   "outputs": [],
   "source": [
    "\n"
   ]
  }
 ],
 "metadata": {
  "kernelspec": {
   "display_name": "Python 3",
   "language": "python",
   "name": "python3"
  },
  "language_info": {
   "codemirror_mode": {
    "name": "ipython",
    "version": 3
   },
   "file_extension": ".py",
   "mimetype": "text/x-python",
   "name": "python",
   "nbconvert_exporter": "python",
   "pygments_lexer": "ipython3",
   "version": "3.10.12"
  }
 },
 "nbformat": 4,
 "nbformat_minor": 5
}
