{
 "cells": [
  {
   "cell_type": "code",
   "execution_count": null,
   "id": "baa575a8",
   "metadata": {},
   "outputs": [],
   "source": [
    "\"\"\" elif ondition:  when Multiple Condition \n",
    "synatx:\n",
    "if copndition:\n",
    "    astatement\n",
    "elif condition:\n",
    "    statement\n",
    "elif condition:\n",
    "    statement\n",
    "else:\n",
    "    statement\n",
    "\n",
    "\n",
    "\n",
    "\n",
    "\"\"\""
   ]
  },
  {
   "cell_type": "code",
   "execution_count": 4,
   "id": "db700001",
   "metadata": {},
   "outputs": [
    {
     "name": "stdout",
     "output_type": "stream",
     "text": [
      "Fail\n"
     ]
    }
   ],
   "source": [
    "marks=int(input(\"Enter Marks= \"))\n",
    "if marks>=70:\n",
    "    print(\"Grade A\")\n",
    "elif marks>=60 and marks<70:\n",
    "    print(\"B Grade\")\n",
    "elif marks>=50 and marks<60:\n",
    "    print(\"Grade C\")\n",
    "elif marks>=40 and marks<50:\n",
    "    print(\"D Grade\")\n",
    "else:\n",
    "    print(\"Fail\")"
   ]
  },
  {
   "cell_type": "code",
   "execution_count": null,
   "id": "6d609da3",
   "metadata": {},
   "outputs": [
    {
     "data": {
      "text/plain": [
       "' \\nif condition:\\n    if condition:\\n        statement\\n    else:\\n        statement\\n'"
      ]
     },
     "execution_count": 5,
     "metadata": {},
     "output_type": "execute_result"
    }
   ],
   "source": [
    "\"\"\" \n",
    "Nested If...else: when Condition Is Inside another Condition\"\"\" \n",
    "# syntax:\n",
    "\"\"\" \n",
    "if condition:\n",
    "    if condition:\n",
    "        statement\n",
    "    else:\n",
    "        statement\n",
    "else:\n",
    "    if condition:\n",
    "        statement\n",
    "    else:\n",
    "        statement\n",
    "\"\"\""
   ]
  },
  {
   "cell_type": "code",
   "execution_count": 8,
   "id": "e197d387",
   "metadata": {},
   "outputs": [
    {
     "name": "stdout",
     "output_type": "stream",
     "text": [
      "D Grade\n"
     ]
    }
   ],
   "source": [
    "marks=int(input(\"ENter MArks= \"))\n",
    "if marks>=0 and marks<=100:\n",
    "    if marks>=70:\n",
    "        print(\"Grade A\")\n",
    "    elif marks>=60 and marks<70:\n",
    "        print(\"B Grade\")\n",
    "    elif marks>=50 and marks<60:\n",
    "        print(\"Grade C\")\n",
    "    elif marks>=40 and marks<50:\n",
    "        print(\"D Grade\")\n",
    "    else:\n",
    "        print(\"Fail\")\n",
    "else:\n",
    "    print(\"Invalid Marks!!\")\n",
    "    "
   ]
  },
  {
   "cell_type": "code",
   "execution_count": null,
   "id": "abef7bf4",
   "metadata": {},
   "outputs": [
    {
     "name": "stdout",
     "output_type": "stream",
     "text": [
      "45 is greter\n"
     ]
    }
   ],
   "source": [
    "num1=int(input(\"ENter Number 1= \"))\n",
    "num2=int(input(\"ENter Number 2= \"))\n",
    "num3=int(input(\"ENter Number 3= \"))\n",
    "\n",
    "if num1>num2:\n",
    "    if num1>num3:\n",
    "        print(f\"{num1} is greter\")\n",
    "    else:\n",
    "        print(f\"{num3} is greter\")\n",
    "else:\n",
    "    if num2>num3:\n",
    "        print(f\"{num2} is greter\")\n",
    "    else:\n",
    "        print(f\"{num3} is greter\")\n",
    "\n"
   ]
  },
  {
   "cell_type": "code",
   "execution_count": 12,
   "id": "db740e9b",
   "metadata": {},
   "outputs": [
    {
     "data": {
      "text/plain": [
       "' Lopping statement :repetation the block of code\\n\\ntherer are mainly two types of loop:\\n1)for loop :\\nfor loop is an sequance control loop and its also entry controll,when we no number of iterartion\\nsyntax:\\nfor var in sequence:\\n    statement\\n'"
      ]
     },
     "execution_count": 12,
     "metadata": {},
     "output_type": "execute_result"
    }
   ],
   "source": [
    "\"\"\" Lopping statement :repetation the block of code\n",
    "\n",
    "therer are mainly two types of loop:\n",
    "1)for loop :\n",
    "for loop is an sequance control loop and its also entry controll,when we no number of iterartion\n",
    "syntax:\n",
    "for var in sequence:\n",
    "    statement\n",
    "\"\"\""
   ]
  },
  {
   "cell_type": "code",
   "execution_count": 13,
   "id": "1b482731",
   "metadata": {},
   "outputs": [
    {
     "data": {
      "text/plain": [
       "'  \\nrange(): range is function or dadtype used with for loop\\nthere are mainly there parameter \\n1)start:optional by default 0\\n2)stop: required exclusive work\\n3)step :optional by default 1\\n\\nsyntax:\\n range([start],stop,[step])\\n  range(2,6)#2,3,4,5\\nrange()\\n  '"
      ]
     },
     "execution_count": 13,
     "metadata": {},
     "output_type": "execute_result"
    }
   ],
   "source": [
    "\"\"\"  \n",
    "range(): range is function or dadtype used with for loop\n",
    "there are mainly there parameter \n",
    "1)start:optional by default 0\n",
    "2)stop: required exclusive work\n",
    "3)step :optional by default 1\n",
    "\n",
    "syntax:\n",
    " range([start],stop,[step])\n",
    "  range(2,6)#2,3,4,5\n",
    "range()\n",
    "  \"\"\""
   ]
  },
  {
   "cell_type": "code",
   "execution_count": 14,
   "id": "b177f076",
   "metadata": {},
   "outputs": [
    {
     "name": "stdout",
     "output_type": "stream",
     "text": [
      "0\n",
      "1\n",
      "2\n",
      "3\n",
      "4\n",
      "5\n"
     ]
    }
   ],
   "source": [
    "for i in  range(6):\n",
    "    print(i)"
   ]
  },
  {
   "cell_type": "code",
   "execution_count": 15,
   "id": "4c349da3",
   "metadata": {},
   "outputs": [
    {
     "name": "stdout",
     "output_type": "stream",
     "text": [
      "(1) hello\n",
      "(2) hello\n",
      "(3) hello\n",
      "(4) hello\n",
      "(5) hello\n"
     ]
    }
   ],
   "source": [
    "for i in range(1,6):\n",
    "    print(f\"({i}) hello\")"
   ]
  },
  {
   "cell_type": "code",
   "execution_count": 16,
   "id": "b78cc249",
   "metadata": {},
   "outputs": [
    {
     "name": "stdout",
     "output_type": "stream",
     "text": [
      "1 2 3 4 5 "
     ]
    }
   ],
   "source": [
    "for i in range(1,6):\n",
    "    print(i,end=\" \")"
   ]
  },
  {
   "cell_type": "code",
   "execution_count": null,
   "id": "3d4364dc",
   "metadata": {},
   "outputs": [],
   "source": []
  }
 ],
 "metadata": {
  "kernelspec": {
   "display_name": "Python 3",
   "language": "python",
   "name": "python3"
  },
  "language_info": {
   "codemirror_mode": {
    "name": "ipython",
    "version": 3
   },
   "file_extension": ".py",
   "mimetype": "text/x-python",
   "name": "python",
   "nbconvert_exporter": "python",
   "pygments_lexer": "ipython3",
   "version": "3.10.12"
  }
 },
 "nbformat": 4,
 "nbformat_minor": 5
}
