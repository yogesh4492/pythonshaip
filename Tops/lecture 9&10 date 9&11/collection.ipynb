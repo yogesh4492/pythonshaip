{
 "cells": [
  {
   "cell_type": "code",
   "execution_count": null,
   "id": "e9d5d90e",
   "metadata": {},
   "outputs": [],
   "source": [
    "\"\"\" date-09-10-2025  \n",
    "collection in python :\n",
    "there is 4 types of colection :\n",
    "1)list\n",
    "2)tuple\n",
    "3)set\n",
    "4)dictonary\n",
    "\n",
    "----------------------------------------------\\\n",
    "1)list: list is an orderable,indexable ,sequanceble data type \n",
    "         list is denoted by square [] braces \n",
    "         list is mutable data type \n",
    "         by default list index start with 0\n",
    "         list can store any type of data\n",
    "\n",
    "syntax:=\n",
    "var = [] #empty list\n",
    "\n",
    "difference beetween array and list\n",
    "list can store similiar and de-similoiar data\n",
    "array  only store similiar data\n",
    "\n",
    "\n",
    "\"\"\"\n",
    "\n",
    "\n",
    "\n"
   ]
  },
  {
   "cell_type": "code",
   "execution_count": 2,
   "id": "81985161",
   "metadata": {},
   "outputs": [
    {
     "name": "stdout",
     "output_type": "stream",
     "text": [
      "[]\n",
      "['apples', 'mango', 'banana', 'kiwi']\n",
      "--------------------------------------------------\n",
      "apples\n",
      "mango\n",
      "banana\n",
      "kiwi\n"
     ]
    }
   ],
   "source": [
    "l1=[]\n",
    "print(l1)# emopty list\n",
    "\n",
    "fruit_list=['apples','mango','banana','kiwi']\n",
    "print(fruit_list)\n",
    "print(\"-\"*50)\n",
    "for item in fruit_list:\n",
    "    print(item)"
   ]
  },
  {
   "cell_type": "code",
   "execution_count": 3,
   "id": "9dac45ff",
   "metadata": {},
   "outputs": [
    {
     "name": "stdout",
     "output_type": "stream",
     "text": [
      " (1)  apple\n",
      " (2)  mango\n",
      " (3)  kiwi\n",
      " (4)  banana\n",
      "Total Fruits= 4\n",
      "Total Fruits= 4\n"
     ]
    }
   ],
   "source": [
    "list1=['apple','mango','kiwi','banana']\n",
    "count=0\n",
    "for i in list1:\n",
    "    count+=1\n",
    "    print(f\" ({count})  {i}\")\n",
    "print(f\"Total Fruits= {count}\")\n",
    "print(f\"Total Fruits= {len(list1)}\")"
   ]
  },
  {
   "cell_type": "code",
   "execution_count": 5,
   "id": "ca07e4ca",
   "metadata": {},
   "outputs": [
    {
     "name": "stdout",
     "output_type": "stream",
     "text": [
      "first no= 2334\n",
      "first no= 2334\n",
      " last no =65\n",
      " last no= 65\n"
     ]
    }
   ],
   "source": [
    "\"\"\" \n",
    "\n",
    "list indexing\n",
    "list index start with 0\n",
    "positive indexing\n",
    "0    1 2 3 4\n",
    "[10,20,30,40,50]\n",
    "-5 -4 -3 -2 -1 # negative indexing\n",
    "\n",
    "\"\"\"\n",
    "\n",
    "l1=[2334,76,98,345,35,65]\n",
    "print(f\"first no= {l1[0]}\")\n",
    "print(f\"first no= {l1[-len(l1)]}\")\n",
    "print(f\" last no ={l1[-1]}\")\n",
    "print(f\" last no= {l1[len(l1)-1]}\")"
   ]
  },
  {
   "cell_type": "code",
   "execution_count": 6,
   "id": "c4dc49f6",
   "metadata": {},
   "outputs": [
    {
     "name": "stdout",
     "output_type": "stream",
     "text": [
      "First Subject= math\n",
      "First Subject= math\n",
      "LAst Subject = telugu\n",
      "LAst Subject IS = telugu\n"
     ]
    }
   ],
   "source": [
    "subject_list=['math','gujarati','english','marathi','telugu']\n",
    "print(f\"First Subject= {subject_list[0]}\")\n",
    "print(f\"First Subject= {subject_list[-len(subject_list)]}\")\n",
    "print(f\"LAst Subject = {subject_list[-1]}\")\n",
    "print(f\"LAst Subject IS = {subject_list[len(subject_list)-1]}\")"
   ]
  },
  {
   "cell_type": "code",
   "execution_count": 11,
   "id": "2502f34c",
   "metadata": {},
   "outputs": [
    {
     "name": "stdout",
     "output_type": "stream",
     "text": [
      "[1, 2, 34]\n",
      "[34, 4, 665]\n"
     ]
    }
   ],
   "source": [
    "\"\"\"  \n",
    "\n",
    "list slicing\"\"\"\n",
    "\n",
    "\n",
    "list1=[1,2,34,4,665]\n",
    "print(list1[:3])# first 3 no\n",
    "\n",
    "\n",
    "print(list1[-3:]) # last 3 no "
   ]
  },
  {
   "cell_type": "code",
   "execution_count": 12,
   "id": "5540e9c1",
   "metadata": {},
   "outputs": [
    {
     "data": {
      "text/plain": [
       "' \\nTo add Data In Existoing List \\n\\ntherev is three method and also + opoerator\\n1) append()\\n2) extend()\\n3) insert()\\n\\n'"
      ]
     },
     "execution_count": 12,
     "metadata": {},
     "output_type": "execute_result"
    }
   ],
   "source": [
    "\"\"\" \n",
    "To add Data In Existoing List \n",
    "\n",
    "therev is three method and also + opoerator\n",
    "1) append()\n",
    "2) extend()\n",
    "3) insert()\n",
    "\n",
    "\"\"\""
   ]
  },
  {
   "cell_type": "code",
   "execution_count": null,
   "id": "afeeb1be",
   "metadata": {},
   "outputs": [],
   "source": []
  }
 ],
 "metadata": {
  "kernelspec": {
   "display_name": "Python 3",
   "language": "python",
   "name": "python3"
  },
  "language_info": {
   "codemirror_mode": {
    "name": "ipython",
    "version": 3
   },
   "file_extension": ".py",
   "mimetype": "text/x-python",
   "name": "python",
   "nbconvert_exporter": "python",
   "pygments_lexer": "ipython3",
   "version": "3.10.12"
  }
 },
 "nbformat": 4,
 "nbformat_minor": 5
}
