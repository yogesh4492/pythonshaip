{
 "cells": [
  {
   "cell_type": "code",
   "execution_count": 1,
   "id": "5118ebbd",
   "metadata": {},
   "outputs": [
    {
     "data": {
      "text/plain": [
       "'\\n1)arithmertic operators\\n+ - * / % //  **\\n\\n2)relational operators(comparison oepartor)\\n\\n==\\n!=\\n>=\\n<=\\n>\\n<\\n\\n3)logical operator\\nand \\nor \\nnot\\n\\n4)assignment operator:\\n =\\n shorthand operator\\n combination of both assignmr=ent and arithmetic operator\\n +=\\n -=\\n *=\\n /=\\n\\n 5)membership operator\\n\\n in\\n not in\\n\\n 6)identity operator\\n\\n is \\n is not\\n\\n\\n\\n'"
      ]
     },
     "execution_count": 1,
     "metadata": {},
     "output_type": "execute_result"
    }
   ],
   "source": [
    "\"\"\" \n",
    "operator:at some time we can perform specific calculatipon on operands using specific symbol its called operator\n",
    "\n",
    "e.g a+b //here, a and b are operands and + is symbol\n",
    "   \"\"\"\n",
    "\n",
    "\"\"\"\n",
    "1)arithmertic operators\n",
    "+ - * / % //  **\n",
    "\n",
    "2)relational operators(comparison oepartor)\n",
    "\n",
    "==\n",
    "!=\n",
    ">=\n",
    "<=\n",
    ">\n",
    "<\n",
    "\n",
    "3)logical operator\n",
    "and \n",
    "or \n",
    "not\n",
    "\n",
    "4)assignment operator:\n",
    " =\n",
    " shorthand operator\n",
    " combination of both assignmr=ent and arithmetic operator\n",
    " +=\n",
    " -=\n",
    " *=\n",
    " /=\n",
    "\n",
    " 5)membership operator\n",
    "\n",
    " in\n",
    " not in\n",
    "\n",
    " 6)identity operator\n",
    "\n",
    " is \n",
    " is not\n",
    "\n",
    "\n",
    "\n",
    "\"\"\""
   ]
  },
  {
   "cell_type": "code",
   "execution_count": 2,
   "id": "f8998270",
   "metadata": {},
   "outputs": [
    {
     "data": {
      "text/plain": [
       "'1.py\\n1)conditional\\ni)if\\nii)if ... else\\niii)elif\\n4)nested\\n\\n2)looping\\ni for\\nii while loop\\n\\n3)jumping statements\\ni)break\\nii)(continue\\niii)pass\\n\\n\\n\\n'"
      ]
     },
     "execution_count": 2,
     "metadata": {},
     "output_type": "execute_result"
    }
   ],
   "source": [
    "\"\"\" Contre therol statrement\n",
    "\n",
    "there aatement\n",
    "ee mainly statement\n",
    "1) conditional statement\n",
    "2)looping st\n",
    "3)jumpiong statement\"\"\"\n",
    "\n",
    "\"\"\"1.py\n",
    "1)conditional\n",
    "i)if\n",
    "ii)if ... else\n",
    "iii)elif\n",
    "4)nested\n",
    "\n",
    "2)looping\n",
    "i for\n",
    "ii while loop\n",
    "\n",
    "3)jumping statements\n",
    "i)break\n",
    "ii)(continue\n",
    "iii)pass\n",
    "\n",
    "\n",
    "\n",
    "\"\"\""
   ]
  },
  {
   "cell_type": "code",
   "execution_count": null,
   "id": "a5a87beb",
   "metadata": {},
   "outputs": [],
   "source": []
  }
 ],
 "metadata": {
  "kernelspec": {
   "display_name": "Python 3",
   "language": "python",
   "name": "python3"
  },
  "language_info": {
   "codemirror_mode": {
    "name": "ipython",
    "version": 3
   },
   "file_extension": ".py",
   "mimetype": "text/x-python",
   "name": "python",
   "nbconvert_exporter": "python",
   "pygments_lexer": "ipython3",
   "version": "3.10.12"
  }
 },
 "nbformat": 4,
 "nbformat_minor": 5
}
