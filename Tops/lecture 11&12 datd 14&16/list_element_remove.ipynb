{
 "cells": [
  {
   "cell_type": "code",
   "execution_count": 1,
   "id": "166f17b1",
   "metadata": {},
   "outputs": [
    {
     "data": {
      "text/plain": [
       "' Date : 14-10-2025 \\n\\n\\nList Element remove methods :\\n\\n1) remove()  : remove method remove specific element from existing list \\nsyntx::\\n    list.remove(element)\\n    its throught value error if element noit found\\n    and return none\\n\\n    \\n2) pop(): pop method remove last element of list\\nsyntax:\\n    list.pop()\\nNote: Pop Method also  remove element of given index \\nsyntax:::\\nlist.pop(3) # 4 element and 3 indexe element remove\\nnote: that pop return remove element\\n\\n\\n\\n3) clear() : clear method clear all elememnt of list.\\n\\nsyntax:\\nlist.clear()\\n\\n\\n\\n4) del :  del is keyword ussed to delete list from the memory \\n\\nsyntax:\\ndel list\\n\\n\\n'"
      ]
     },
     "execution_count": 1,
     "metadata": {},
     "output_type": "execute_result"
    }
   ],
   "source": [
    "\"\"\" Date : 14-10-2025 \n",
    "\n",
    "\n",
    "List Element remove methods :\n",
    "\n",
    "1) remove()  : remove method remove specific element from existing list \n",
    "syntx::\n",
    "    list.remove(element)\n",
    "    its throught value error if element noit found\n",
    "    and return none\n",
    "\n",
    "    \n",
    "2) pop(): pop method remove last element of list\n",
    "syntax:\n",
    "    list.pop()\n",
    "Note: Pop Method also  remove element of given index \n",
    "syntax:::\n",
    "list.pop(3) # 4 element and 3 indexe element remove\n",
    "note: that pop return remove element\n",
    "\n",
    "\n",
    "\n",
    "3) clear() : clear method clear all elememnt of list.\n",
    "\n",
    "syntax:\n",
    "list.clear()\n",
    "\n",
    "\n",
    "\n",
    "4) del :  del is keyword ussed to delete list from the memory \n",
    "\n",
    "syntax:\n",
    "del list\n",
    "\n",
    "\n",
    "\"\"\"\n",
    "\n"
   ]
  },
  {
   "cell_type": "code",
   "execution_count": null,
   "id": "d5d054ee",
   "metadata": {},
   "outputs": [],
   "source": []
  }
 ],
 "metadata": {
  "kernelspec": {
   "display_name": "Python 3",
   "language": "python",
   "name": "python3"
  },
  "language_info": {
   "codemirror_mode": {
    "name": "ipython",
    "version": 3
   },
   "file_extension": ".py",
   "mimetype": "text/x-python",
   "name": "python",
   "nbconvert_exporter": "python",
   "pygments_lexer": "ipython3",
   "version": "3.10.12"
  }
 },
 "nbformat": 4,
 "nbformat_minor": 5
}
