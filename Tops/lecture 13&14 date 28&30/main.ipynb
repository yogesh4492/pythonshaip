{
 "cells": [
  {
   "cell_type": "code",
   "execution_count": null,
   "id": "faeae946",
   "metadata": {},
   "outputs": [],
   "source": [
    "\"\"\"Date:28-10-2025\n",
    "\n",
    "Tuple : Tuple  is a collection data type which is contain\n",
    "        similiar and dis-similiar data elements in single entity same like list\n",
    "\n",
    "tuple which is reperesented y ()\n",
    "tuple is orderable ,indexable, sequence data type but immutable\n",
    "\n",
    "syntax:\n",
    "t=()\n",
    "\n",
    "there is big diffrence beetween lia=st and tuple \n",
    "\n",
    "list is mutable  means we can change its value\n",
    "tuple is immutable means we can't change its value\n",
    "\"\"\""
   ]
  }
 ],
 "metadata": {
  "language_info": {
   "name": "python"
  }
 },
 "nbformat": 4,
 "nbformat_minor": 5
}
