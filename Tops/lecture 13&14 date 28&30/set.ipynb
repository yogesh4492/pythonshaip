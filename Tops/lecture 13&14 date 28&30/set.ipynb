{
 "cells": [
  {
   "cell_type": "code",
   "execution_count": null,
   "id": "7573e5c8",
   "metadata": {},
   "outputs": [],
   "source": [
    "\"\"\"\n",
    "set: set is a colection datatype .which is contain simmiliar and dis-similkiar data elements but set which is contain only unique values.\n",
    "\n",
    "set which is represented by {} braces\n",
    "\n",
    "set is unorderable ,unindexable, unsequence and immutablre data type because we can't control by index.\n",
    "\n",
    "\n",
    "\n",
    "\n",
    "\"\"\""
   ]
  }
 ],
 "metadata": {
  "language_info": {
   "name": "python"
  }
 },
 "nbformat": 4,
 "nbformat_minor": 5
}
