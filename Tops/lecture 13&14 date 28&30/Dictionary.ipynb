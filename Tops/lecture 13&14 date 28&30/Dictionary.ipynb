{
 "cells": [
  {
   "cell_type": "code",
   "execution_count": null,
   "id": "6f06b6d6",
   "metadata": {},
   "outputs": [],
   "source": [
    "\"\"\"\n",
    "Date: 30 - 10 -2025\n",
    "\n",
    "\n",
    "Dictionary:   Dictionary is most powerfull datatype in python collection.\n",
    "           in dictionary we can store key and value in a pair.\n",
    "           dictionary whihc is representt by {} braces.\n",
    "           in list and tuple we can store multiple element but one element at single index position.\n",
    "           in dictionary at one index position we can store key and value\n",
    "\n",
    "\n",
    "syntax:\n",
    "     dictionary = {\n",
    "     key : value,\n",
    "     key : value\n",
    "     \n",
    "     }\n",
    "\"\"\"\n",
    "\n"
   ]
  }
 ],
 "metadata": {
  "language_info": {
   "name": "python"
  }
 },
 "nbformat": 4,
 "nbformat_minor": 5
}
