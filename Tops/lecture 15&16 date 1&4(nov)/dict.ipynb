{
 "cells": [
  {
   "cell_type": "code",
   "execution_count": null,
   "id": "1dbc59d7",
   "metadata": {},
   "outputs": [],
   "source": [
    "\"\"\"\n",
    "Date : 1 -11-2025\n",
    "\n",
    "\n",
    "\n",
    "\"\"\""
   ]
  }
 ],
 "metadata": {
  "language_info": {
   "name": "python"
  }
 },
 "nbformat": 4,
 "nbformat_minor": 5
}
