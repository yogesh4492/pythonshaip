{
 "cells": [
  {
   "cell_type": "code",
   "execution_count": 1,
   "id": "d719c434",
   "metadata": {},
   "outputs": [
    {
     "name": "stdout",
     "output_type": "stream",
     "text": [
      " My Name Is Yogesh and My Subject Is Python Grade I Obtain Is A\n"
     ]
    }
   ],
   "source": [
    "\"\"\"\n",
    "String : String is sequence of character \n",
    "        string is collection of character\n",
    "         string is combination of character\n",
    "         string always denoted by double and single quetes\n",
    "\n",
    "\n",
    "\"\"\"\n",
    "name=\"Yogesh\"\n",
    "subject=\"Python\"\n",
    "grade='A'\n",
    "print(f\" My Name Is {name} and My Subject Is { subject} Grade I Obtain Is {grade}\")"
   ]
  },
  {
   "cell_type": "code",
   "execution_count": 2,
   "id": "f87e42fa",
   "metadata": {},
   "outputs": [
    {
     "name": "stdout",
     "output_type": "stream",
     "text": [
      "6\n",
      "6\n"
     ]
    }
   ],
   "source": [
    "name='Python'\n",
    "print(len(name))\n",
    "count=0\n",
    "for i in name:\n",
    "    count+=1\n",
    "print(count)"
   ]
  },
  {
   "cell_type": "code",
   "execution_count": 3,
   "id": "a4ce4d87",
   "metadata": {},
   "outputs": [
    {
     "name": "stdout",
     "output_type": "stream",
     "text": [
      "python\n",
      "PYTHON\n",
      "Python\n"
     ]
    }
   ],
   "source": [
    "name='pYthoN'\n",
    "print(name.lower())\n",
    "print(name.upper())\n",
    "print(name.capitalize())"
   ]
  },
  {
   "cell_type": "code",
   "execution_count": 4,
   "id": "4c620118",
   "metadata": {},
   "outputs": [
    {
     "name": "stdout",
     "output_type": "stream",
     "text": [
      "Yogesh\n",
      "True\n",
      "yogesh4492\n",
      "True\n",
      "9537638715\n",
      "True\n"
     ]
    }
   ],
   "source": [
    "name=input(\"ENter Your Name= \")\n",
    "print(name)\n",
    "print(name.isalpha())\n",
    "username=input(\"Enter Username= \")\n",
    "print(username)\n",
    "print(username.isalnum())\n",
    "contct=input(\"Enter Contact No = \")\n",
    "print(contct)\n",
    "print(contct.isdigit())"
   ]
  },
  {
   "cell_type": "code",
   "execution_count": 5,
   "id": "09191d25",
   "metadata": {},
   "outputs": [
    {
     "name": "stdout",
     "output_type": "stream",
     "text": [
      "https://www.com\n",
      "Valid Url\n"
     ]
    }
   ],
   "source": [
    "url=input(\"Enter Website Url= \")\n",
    "print(url)\n",
    "if url.startswith(\"https://\") or url.startswith(\"http://\"):\n",
    "    if url.endswith(\".com\") or url.endswith(\".co\") or url.endswith(\".in\"):\n",
    "        print(\"Valid Url\")\n",
    "    else:\n",
    "        print(\"MAke Sure url end with specific domain\")\n",
    "else:\n",
    "    print(\"Port Not Found!!!\")"
   ]
  },
  {
   "cell_type": "code",
   "execution_count": 6,
   "id": "f397788c",
   "metadata": {},
   "outputs": [
    {
     "name": "stdout",
     "output_type": "stream",
     "text": [
      "PythoN\n",
      "pYTHOn\n"
     ]
    }
   ],
   "source": [
    "name='PythoN'\n",
    "print(name)\n",
    "res=\"\"\n",
    "for i in name:\n",
    "    if i.islower():\n",
    "        res+=i.upper()\n",
    "    else:\n",
    "        res+=i.lower()\n",
    "print(res)"
   ]
  },
  {
   "cell_type": "code",
   "execution_count": null,
   "id": "c87adeda",
   "metadata": {},
   "outputs": [],
   "source": []
  }
 ],
 "metadata": {
  "kernelspec": {
   "display_name": "Python 3",
   "language": "python",
   "name": "python3"
  },
  "language_info": {
   "codemirror_mode": {
    "name": "ipython",
    "version": 3
   },
   "file_extension": ".py",
   "mimetype": "text/x-python",
   "name": "python",
   "nbconvert_exporter": "python",
   "pygments_lexer": "ipython3",
   "version": "3.10.12"
  }
 },
 "nbformat": 4,
 "nbformat_minor": 5
}
