{
 "cells": [
  {
   "cell_type": "code",
   "execution_count": null,
   "id": "15028d15",
   "metadata": {},
   "outputs": [
    {
     "name": "stdout",
     "output_type": "stream",
     "text": [
      "Name:Yogesh Patel\n",
      "DOB: 26-04-2005\n",
      "Age: 20\n",
      "Address:Modasa,Gujarat\n"
     ]
    }
   ],
   "source": [
    "#1. Basic Logic Program\n",
    "\n",
    "\"\"\"1. Display This Information using printf\n",
    "a. Your Name\n",
    "b. Your Birth date\n",
    "c. Your Age\n",
    "d. Your Address\n",
    "\"\"\"\n",
    "Name=input(\"Enter Your Name= \")\n",
    "Dob=input(\"Enter Date= \")\n",
    "age=input(\"Enter Age= \")\n",
    "address=input(\"Enter Your Address= \")\n",
    "\n",
    "print(f\"Name:{Name}\")\n",
    "print(f\"DOB: {Dob}\")\n",
    "print(f\"Age: {age}\")\n",
    "print(f\"Address:{address}\")\n"
   ]
  },
  {
   "cell_type": "code",
   "execution_count": null,
   "id": "8e7fb133",
   "metadata": {},
   "outputs": [
    {
     "name": "stdout",
     "output_type": "stream",
     "text": [
      "1.Addition\n",
      "2.Subtraction\n",
      "3.Multiplication\n",
      "4.Division\n",
      "5.Modulo\n",
      " 15 * 2= 30\n"
     ]
    }
   ],
   "source": [
    "#2. Write a program to make Simple calculator (to make addition, subtraction, \n",
    "# multiplication, division and modulo)\n",
    "num1=int(input(\"Enter Number 1= \"))\n",
    "num2=int(input(\"Enter Number 2= \"))\n",
    "print(\"1.Addition\")\n",
    "print(\"2.Subtraction\")\n",
    "print(\"3.Multiplication\")\n",
    "print(\"4.Division\")\n",
    "print(\"5.Modulo\")\n",
    "\n",
    "ch=int(input(\"Enter Your Choice= \"))\n",
    "\n",
    "if ch==1:\n",
    "    print(f\" {num1} + {num2}= {num1+num2}\")\n",
    "elif ch==2:\n",
    "    print(f\" {num1} - {num2}= {num1-num2}\")\n",
    "elif ch==3:\n",
    "    print(f\" {num1} * {num2}= {num1*num2}\") \n",
    "elif ch==4:\n",
    "    print(f\" {num1} - {num2}= {num1-num2}\")\n",
    "elif ch==5:\n",
    "    print(f\" {num1} % {num2} ={num1%num2}\")\n",
    "else:\n",
    "    print(f\"Enter valid input\")"
   ]
  },
  {
   "cell_type": "code",
   "execution_count": null,
   "id": "5c35688d",
   "metadata": {},
   "outputs": [
    {
     "name": "stdout",
     "output_type": "stream",
     "text": [
      "Area of circle = 153.86\n",
      "Circumference of circle= 43.96\n"
     ]
    }
   ],
   "source": [
    "#3. WAP to Find Area And Circumference of Circle\n",
    "\n",
    "# formula: \n",
    "# area= pi*radius*radius\n",
    "# circumference= 2*pi*radius\n",
    "\n",
    "radius=float(input(\"Enter radius= \"))\n",
    "area=3.14*radius**2\n",
    "circumference= 2*3.14*radius\n",
    "print(f\"Area of circle = {area:.2f}\")\n",
    "print(f\"Circumference of circle= {circumference:.2f}\")"
   ]
  },
  {
   "cell_type": "code",
   "execution_count": null,
   "id": "0ac830e9",
   "metadata": {},
   "outputs": [
    {
     "name": "stdout",
     "output_type": "stream",
     "text": [
      "Area of square is = 25.0\n"
     ]
    }
   ],
   "source": [
    "#4. Find Area of Square formula : a = a2\n",
    "\n",
    "side=float(input(\"Enter side length= \"))\n",
    "A=side**2\n",
    "print(\"Area of square is =\",A)"
   ]
  },
  {
   "cell_type": "code",
   "execution_count": null,
   "id": "9654b1a1",
   "metadata": {},
   "outputs": [
    {
     "name": "stdout",
     "output_type": "stream",
     "text": [
      "area of cube is=  150.0\n"
     ]
    }
   ],
   "source": [
    "#5. Find Area of Cube formula : a = 6a2\n",
    "\n",
    "side=float(input(\"Enter side length= \"))\n",
    "area=6*(side**2)\n",
    "print(\"area of cube is= \",area)"
   ]
  },
  {
   "cell_type": "code",
   "execution_count": null,
   "id": "b11329f0",
   "metadata": {},
   "outputs": [
    {
     "name": "stdout",
     "output_type": "stream",
     "text": [
      "27.5\n"
     ]
    }
   ],
   "source": [
    "#6. Find area of Triangle Formula : A = 1/2 × b × h\n",
    "\n",
    "base=float(input(\"Enter Base= \"))\n",
    "height=float(input(\"Enter height= \"))\n",
    "Area=0.5*base*height\n",
    "print(Area)\n"
   ]
  },
  {
   "cell_type": "code",
   "execution_count": null,
   "id": "43511790",
   "metadata": {},
   "outputs": [
    {
     "name": "stdout",
     "output_type": "stream",
     "text": [
      "45.0\n"
     ]
    }
   ],
   "source": [
    "#7. Find area of Rectangle Formula : A=wl\n",
    "\n",
    "length=float(input(\"Enter lenght= \"))\n",
    "width=float(input(\"Enter width= \"))\n",
    "Area=length*width\n",
    "print(Area)"
   ]
  },
  {
   "cell_type": "code",
   "execution_count": null,
   "id": "71c4cb1e",
   "metadata": {},
   "outputs": [
    {
     "name": "stdout",
     "output_type": "stream",
     "text": [
      "16.0\n"
     ]
    }
   ],
   "source": [
    "#8. Find circumference of Rectangle formula : C = 2*w+l \n",
    "\n",
    "\n",
    "length=float(input(\"Enter lenght= \"))\n",
    "width=float(input(\"Enter width= \"))\n",
    "circumference=2*(length+width)\n",
    "\n",
    "print(circumference)\n"
   ]
  },
  {
   "cell_type": "code",
   "execution_count": null,
   "id": "dad08870",
   "metadata": {},
   "outputs": [
    {
     "name": "stdout",
     "output_type": "stream",
     "text": [
      "60.0\n"
     ]
    }
   ],
   "source": [
    "#9. find circumference of Triangle formula :  triangle = a + b + c\n",
    "a=float(input(\"Enter side a= \"))\n",
    "b=float(input(\"Enter side b= \"))\n",
    "c=float(input(\"enter side c= \"))\n",
    "circumference=a+b+c\n",
    "print(circumference)\n",
    "\n"
   ]
  },
  {
   "cell_type": "code",
   "execution_count": 1,
   "id": "d608013b",
   "metadata": {},
   "outputs": [
    {
     "name": "stdout",
     "output_type": "stream",
     "text": [
      "94.0\n"
     ]
    }
   ],
   "source": [
    "#10. find the area of a rectangular prism formula : A=2(wl+hl+hw)\n",
    "weight=float(input(\"Enter weight= \"))\n",
    "length=float(input(\"Enter length= \"))\n",
    "height=float(input(\"Enter height= \"))\n",
    "\n",
    "Area=2*(weight*length+height*length+height*weight)\n",
    "print(Area)\n"
   ]
  },
  {
   "cell_type": "code",
   "execution_count": 2,
   "id": "c94990f6",
   "metadata": {},
   "outputs": [
    {
     "name": "stdout",
     "output_type": "stream",
     "text": [
      "60.0\n"
     ]
    }
   ],
   "source": [
    "#11. Find circumference of square formula : C = 4 * a \n",
    "\n",
    "side=float(input(\"Enter side length= \"))\n",
    "circumference=4*side\n",
    "print(circumference)"
   ]
  },
  {
   "cell_type": "code",
   "execution_count": null,
   "id": "1dee747e",
   "metadata": {},
   "outputs": [
    {
     "name": "stdout",
     "output_type": "stream",
     "text": [
      "You need total apple is =75\n"
     ]
    }
   ],
   "source": [
    "# 12. Accept number of students from user. I need to give 5 apples to each \n",
    "# student. How many apples are required?\n",
    "\n",
    "n_o_stu=int(input(\"Enter Number of student= \"))\n",
    "apple=n_o_stu*5\n",
    "print(f\"You required total apple is ={apple}\")"
   ]
  },
  {
   "cell_type": "code",
   "execution_count": null,
   "id": "ed947ec7",
   "metadata": {},
   "outputs": [
    {
     "name": "stdout",
     "output_type": "stream",
     "text": [
      "56\n",
      "9\n"
     ]
    }
   ],
   "source": [
    "#13. Find character value from ascii  \n",
    "\n",
    "ch=input(\"enter any character= \")\n",
    "print(ord(ch))\n"
   ]
  },
  {
   "cell_type": "code",
   "execution_count": null,
   "id": "11b96ee1",
   "metadata": {},
   "outputs": [],
   "source": [
    "# 14. Find ascii value of given number\n",
    "\n",
    "num=int(input(\"Enter Any number for character find= \"))\n",
    "print(chr(num))"
   ]
  },
  {
   "cell_type": "code",
   "execution_count": null,
   "id": "6ab8a613",
   "metadata": {},
   "outputs": [],
   "source": [
    "# 15. Convert school’s name in abbreviated form\n"
   ]
  },
  {
   "cell_type": "code",
   "execution_count": null,
   "id": "75bc58c1",
   "metadata": {},
   "outputs": [],
   "source": [
    "# 16. Convert country’s name in abbreviate form\n"
   ]
  },
  {
   "cell_type": "code",
   "execution_count": null,
   "id": "f3b4b8c3",
   "metadata": {},
   "outputs": [
    {
     "name": "stdout",
     "output_type": "stream",
     "text": [
      "Insturance primium is =3150.0000000000005\n"
     ]
    }
   ],
   "source": [
    "#17. Calculate person’s insurance premium based on salary\n",
    "\n",
    "salary=float(input(\"Enter your Salary= \"))\n",
    "if salary<=20000:\n",
    "    insurance=salary*0.05\n",
    "elif salary<=50000:\n",
    "    insurance=salary*0.07\n",
    "else:\n",
    "    insurance=salary*0.10\n",
    "print(f\"Insturance primium is ={insurance}\")"
   ]
  },
  {
   "cell_type": "code",
   "execution_count": null,
   "id": "3f3abf46",
   "metadata": {},
   "outputs": [
    {
     "name": "stdout",
     "output_type": "stream",
     "text": [
      "Annnual salary= 300000.0\n"
     ]
    }
   ],
   "source": [
    "#18. Calculate person’s Annual salary\n",
    "salary=float(input(\"Enter Your Salary= \"))\n",
    "anu_sal=salary*12\n",
    "print(f\"Annnual salary= {anu_sal}\")"
   ]
  },
  {
   "cell_type": "code",
   "execution_count": 54,
   "id": "7a2f5f96",
   "metadata": {},
   "outputs": [
    {
     "name": "stdout",
     "output_type": "stream",
     "text": [
      "simple interst is = 600.0\n"
     ]
    }
   ],
   "source": [
    "#19. Calculate Simple Intereset\n",
    "\n",
    "principle=float(input(\"Enter Principle Amount= \"))\n",
    "Rate=float(input(\"Enter Rate= \"))\n",
    "time=float(input(\"Enter Time= \"))\n",
    "si=principle*Rate*time/100\n",
    "\n",
    "print(f\"simple interst is = {si}\")"
   ]
  },
  {
   "cell_type": "code",
   "execution_count": null,
   "id": "ded000d2",
   "metadata": {},
   "outputs": [
    {
     "name": "stdout",
     "output_type": "stream",
     "text": [
      "monthly salary= 50000.0\n",
      "Insurance amount = 5000.0\n",
      "salary after insurance duduction= 45000.0\n",
      "loan installement= 4500.0\n",
      "in HAnd salary is  = 40500.0\n"
     ]
    }
   ],
   "source": [
    "#20.  Accept monthly salary from the user and deduct 10% insurance premium, \n",
    "# 10% loan installment find out of remaining salary.\n",
    "\n",
    "salary=float(input(\"Enter Your Monthly Salary= \"))\n",
    "print(f\"monthly salary= {salary}\")\n",
    "insurance=salary*0.10\n",
    "print(f\"Insurance amount = {insurance}\")\n",
    "salary-=insurance\n",
    "print(f\"salary after insurance duduction= {salary}\")\n",
    "loan=salary*0.10\n",
    "print(f\"loan installement= {loan}\")\n",
    "salary-=loan\n",
    "print(f\"in hand salary is  = {salary}\")\n"
   ]
  },
  {
   "cell_type": "code",
   "execution_count": null,
   "id": "067dd7ca",
   "metadata": {},
   "outputs": [
    {
     "name": "stdout",
     "output_type": "stream",
     "text": [
      "a=25\n",
      "b= 15\n",
      "a=15\n",
      "b= 25\n"
     ]
    }
   ],
   "source": [
    "# 21.Accept 2 numbers from user and swap 2 numbers with using 3rd variable \n",
    "# and without using 3rd variable\n",
    "a=int(input(\"Enter num1= \"))\n",
    "b=int(input(\"Enter number 2= \"))\n",
    "#with third variable\n",
    "c=a \n",
    "a=b\n",
    "b=c\n",
    "print(f\"a={a}\")\n",
    "print(f\"b= {b}\")\n",
    "\n",
    "#without third variable\n",
    "\n",
    "a,b=b,a \n",
    "print(f\"a={a}\")\n",
    "print(f\"b= {b}\")\n"
   ]
  },
  {
   "cell_type": "code",
   "execution_count": null,
   "id": "f26e4a44",
   "metadata": {},
   "outputs": [
    {
     "name": "stdout",
     "output_type": "stream",
     "text": [
      "Total Amount to pay=16537.5 \n",
      "compound interest= 1537.5\n"
     ]
    }
   ],
   "source": [
    "#22. Calculate compound interest (Compound Interest formula: \n",
    "# a.  Formula to calculate compound interest annually is given by:  \n",
    "# Amount= P(1 + R/100)t \n",
    "# b.  Compound Interest = Amount – P \n",
    "\n",
    "p=float(input(\"Enter Principle= \"))\n",
    "r=float(input(\"Enter Rate= \"))\n",
    "t=float(input(\"Enter Time in year= \"))\n",
    "\n",
    "Amount=p*(1+r/100)**t\n",
    "ci=Amount-p\n",
    "print(f\"Total Amount to pay={Amount} \")\n",
    "print(f\"compound interest= {ci}\")"
   ]
  },
  {
   "cell_type": "code",
   "execution_count": null,
   "id": "3fa51bf4",
   "metadata": {},
   "outputs": [
    {
     "name": "stdout",
     "output_type": "stream",
     "text": [
      "Number 1= 20\n",
      "Number 2= 10\n"
     ]
    }
   ],
   "source": [
    "#23.  WAP to calculate swap 2 numbers with using of multiplication and division\n",
    "\n",
    "num1=int(input(\"Enter Number 1= \"))\n",
    "num2=int(input(\"Enter Number 2= \"))\n",
    "num1=num1*num2\n",
    "num2=num1//num2\n",
    "num1=num1//num2\n",
    "\n",
    "print(f\"Number 1= {num1}\")\n",
    "print(f\"Number 2= {num2}\")\n",
    "\n"
   ]
  },
  {
   "cell_type": "code",
   "execution_count": null,
   "id": "5cd3c41c",
   "metadata": {},
   "outputs": [
    {
     "name": "stdout",
     "output_type": "stream",
     "text": [
      "Total salary=  85000\n",
      "average salary =17000\n"
     ]
    }
   ],
   "source": [
    "#24. Accept 5 employees name and salary and count average and total salary\n",
    "total_sal=0\n",
    "for i in range(1,6):\n",
    "    emp_name=input(\"Enter Employee Name= \")\n",
    "    salary=int(input(\"ENter Salary=\"))\n",
    "    total_sal+=salary\n",
    "average=total_sal//5\n",
    "\n",
    "print(\"Total salary= \",total_sal)\n",
    "print(f\"average salary ={average}\")\n"
   ]
  },
  {
   "cell_type": "code",
   "execution_count": 3,
   "id": "6f39967a",
   "metadata": {},
   "outputs": [
    {
     "name": "stdout",
     "output_type": "stream",
     "text": [
      "average of expense =30\n"
     ]
    }
   ],
   "source": [
    "# 25. Accept 5 expense from user and find average of expense\n",
    "\n",
    "total=0\n",
    "for i in range(1,6):\n",
    "    expense=int(input(f\"Enter The Expense of i= \"))\n",
    "    total+=expense\n",
    "average=total//5\n",
    "print(f\"average of expense ={average}\")\n"
   ]
  },
  {
   "cell_type": "code",
   "execution_count": null,
   "id": "6794b2b7",
   "metadata": {},
   "outputs": [
    {
     "name": "stdout",
     "output_type": "stream",
     "text": [
      "35.0\n",
      "95.0\n"
     ]
    }
   ],
   "source": [
    "#26. Convert temperature Fahrenheit to Celsius\n",
    "\n",
    "fer=float(input(\"Enter Fehrenhit= \"))\n",
    "cel=(fer-32)*5/9\n",
    "print(cel)\n",
    "#cel to fehrenhit\n",
    "fer1=(cel*9/5)+32\n",
    "print(fer1)"
   ]
  },
  {
   "cell_type": "code",
   "execution_count": null,
   "id": "31ce1f48",
   "metadata": {},
   "outputs": [
    {
     "name": "stdout",
     "output_type": "stream",
     "text": [
      "Months =2\n"
     ]
    }
   ],
   "source": [
    "#27. Convert days into months \n",
    "days=int(input(\"Enter days= \"))\n",
    "months=days//30\n",
    "print(f\"Months ={months}\")\n"
   ]
  },
  {
   "cell_type": "code",
   "execution_count": null,
   "id": "055132fb",
   "metadata": {},
   "outputs": [
    {
     "name": "stdout",
     "output_type": "stream",
     "text": [
      " 24 months and  720 days\n"
     ]
    }
   ],
   "source": [
    "#28. Convert years into days and months\n",
    "\n",
    "year=int(input(\"Enter year=\"))\n",
    "month=year*12\n",
    "days=year*365\n",
    "print(f\" {month} months and  {days} days\")\n"
   ]
  },
  {
   "cell_type": "code",
   "execution_count": null,
   "id": "5b834bc8",
   "metadata": {},
   "outputs": [
    {
     "name": "stdout",
     "output_type": "stream",
     "text": [
      "1 Hours AND 3600 second when minute =60 \n"
     ]
    }
   ],
   "source": [
    "#29. Convert minutes into seconds and hours\n",
    "\n",
    "minute=int(input(\"Enter minute= \"))\n",
    "hours=minute//60\n",
    "second=minute*60\n",
    "print(f\"{hours} Hours AND {second} second when minute ={minute} \")\n",
    "\n"
   ]
  },
  {
   "cell_type": "code",
   "execution_count": null,
   "id": "81ac2f1d",
   "metadata": {},
   "outputs": [
    {
     "name": "stdout",
     "output_type": "stream",
     "text": [
      "days=730\n",
      "number of year=2.0 \n"
     ]
    }
   ],
   "source": [
    "#30. WAP to convert years into days and days into years\n",
    "years=int(input(\"Enter years= \"))\n",
    "days=year*365\n",
    "print(f\"days={days}\")\n",
    "year1=days/365\n",
    "print(f\"number of year={year1} \")\n",
    "\n"
   ]
  },
  {
   "cell_type": "code",
   "execution_count": null,
   "id": "c4b1b932",
   "metadata": {},
   "outputs": [
    {
     "name": "stdout",
     "output_type": "stream",
     "text": [
      "5000\n"
     ]
    }
   ],
   "source": [
    "#31. Convert kilometers into meters\n",
    "kilomiter=int(input(\"Enter kilomiter= \"))\n",
    "miter=kilomiter*1000\n",
    "print(miter)"
   ]
  },
  {
   "cell_type": "code",
   "execution_count": null,
   "id": "8f8f5651",
   "metadata": {},
   "outputs": [
    {
     "name": "stdout",
     "output_type": "stream",
     "text": [
      "size of sum is <built-in method __sizeof__ of int object at 0x00007FFBBA64FDF8>\n"
     ]
    }
   ],
   "source": [
    "#32. Accept 2 numbers and find out its sum check it size \n",
    "num1=int(input(\"Enter Number 1= \"))\n",
    "num2=int(input(\"Enter Number 2= \"))\n",
    "sum=num1+num2\n"
   ]
  },
  {
   "cell_type": "code",
   "execution_count": null,
   "id": "809a0c5d",
   "metadata": {},
   "outputs": [
    {
     "name": "stdout",
     "output_type": "stream",
     "text": [
      "num^1= 5\n",
      "num^2= 25\n",
      "num^3= 125\n"
     ]
    }
   ],
   "source": [
    "# 33. C Program to Read Integer and Print First Three Powers (N^1, N^2, N^3)\n",
    "num=int(input(\"Enter Number= \"))\n",
    "print(f\"num^1= {num**1}\")\n",
    "print(f\"num^2= {num**2}\")\n",
    "print(f\"num^3= {num**3}\")\n"
   ]
  },
  {
   "cell_type": "code",
   "execution_count": null,
   "id": "b800bd99",
   "metadata": {},
   "outputs": [],
   "source": []
  }
 ],
 "metadata": {
  "kernelspec": {
   "display_name": "Python 3",
   "language": "python",
   "name": "python3"
  },
  "language_info": {
   "codemirror_mode": {
    "name": "ipython",
    "version": 3
   },
   "file_extension": ".py",
   "mimetype": "text/x-python",
   "name": "python",
   "nbconvert_exporter": "python",
   "pygments_lexer": "ipython3",
   "version": "3.10.12"
  }
 },
 "nbformat": 4,
 "nbformat_minor": 5
}
