{
 "cells": [
  {
   "cell_type": "code",
   "execution_count": 24,
   "id": "54d3c4e6",
   "metadata": {},
   "outputs": [
    {
     "name": "stdout",
     "output_type": "stream",
     "text": [
      "[]\n"
     ]
    }
   ],
   "source": [
    "# Create a list of 10 numbers and print it.\n",
    "list=[]\n",
    "for i in range(1,1):\n",
    "    num=int(input(\"ENter Number = \"))\n",
    "    list.append(num)\n",
    "print(list)\n"
   ]
  },
  {
   "cell_type": "code",
   "execution_count": null,
   "id": "b98433f8",
   "metadata": {},
   "outputs": [
    {
     "name": "stdout",
     "output_type": "stream",
     "text": [
      "1\n",
      "8\n",
      "2\n"
     ]
    }
   ],
   "source": [
    "\n",
    "# Access first, middle, and last elements of a list.\n",
    "\n",
    "list=[1,2,3,4,5,8,6,5,4,3,2]\n",
    "\n",
    "print(list[0])\n",
    "print(list[len(list)//2])\n",
    "print(list[len(list)-1])\n",
    "\n"
   ]
  },
  {
   "cell_type": "code",
   "execution_count": 18,
   "id": "f556462e",
   "metadata": {},
   "outputs": [
    {
     "name": "stdout",
     "output_type": "stream",
     "text": [
      "Length Of List = 5\n"
     ]
    }
   ],
   "source": [
    "# Find the length of a list without using len().\n",
    "\n",
    "list=[1,2,3,4,32]\n",
    "count=0\n",
    "for i in list:\n",
    "    count+=1\n",
    "print(\"Length Of List =\",count)\n",
    "\n"
   ]
  },
  {
   "cell_type": "code",
   "execution_count": null,
   "id": "7280eed4",
   "metadata": {},
   "outputs": [],
   "source": [
    "\n"
   ]
  },
  {
   "cell_type": "code",
   "execution_count": 26,
   "id": "88a0892b",
   "metadata": {},
   "outputs": [
    {
     "name": "stdout",
     "output_type": "stream",
     "text": [
      "[1, 2, 15, 3, 4, 2, 300, 2, 3, 3]\n"
     ]
    }
   ],
   "source": [
    "# Insert an elemeex,element)\n",
    "\n",
    "\n",
    "list=[1,2,3,4,2,300,2,3,3]\n",
    "ele=int(input(\"Enter Element= \"))\n",
    "index=int(input(\"Enter Position = \"))\n",
    "list.insert(index,ele)\n",
    "print(list)"
   ]
  },
  {
   "cell_type": "code",
   "execution_count": null,
   "id": "76aadcfe",
   "metadata": {},
   "outputs": [],
   "source": [
    "# Remove an element by value using remove().\n",
    "\n",
    "# Delete an element by index using del.\n",
    "\n",
    "# Sort a list in ascending and descending order.\n",
    "\n",
    "# Reverse a list using slicing.\n",
    "\n",
    "# Count how many times a value appears in the list.\n",
    "\n",
    "# Find the maximum, minimum, and sum of list elements.\n",
    "\n",
    "# Take 5 numbers from user input and store them in a list.\n",
    "\n",
    "# Check if an element exists in the list.\n",
    "\n",
    "# Copy a list using slicing and using copy().\n",
    "\n",
    "# Convert a string into a list of words using split()"
   ]
  }
 ],
 "metadata": {
  "kernelspec": {
   "display_name": "Python 3",
   "language": "python",
   "name": "python3"
  },
  "language_info": {
   "codemirror_mode": {
    "name": "ipython",
    "version": 3
   },
   "file_extension": ".py",
   "mimetype": "text/x-python",
   "name": "python",
   "nbconvert_exporter": "python",
   "pygments_lexer": "ipython3",
   "version": "3.10.12"
  }
 },
 "nbformat": 4,
 "nbformat_minor": 5
}
