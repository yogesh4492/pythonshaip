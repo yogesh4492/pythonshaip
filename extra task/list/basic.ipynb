{
 "cells": [
  {
   "cell_type": "code",
   "execution_count": 24,
   "id": "54d3c4e6",
   "metadata": {},
   "outputs": [
    {
     "name": "stdout",
     "output_type": "stream",
     "text": [
      "[]\n"
     ]
    }
   ],
   "source": [
    "# Create a list of 10 numbers and print it.\n",
    "list=[]\n",
    "for i in range(1,1):\n",
    "    num=int(input(\"ENter Number = \"))\n",
    "    list.append(num)\n",
    "print(list)\n"
   ]
  },
  {
   "cell_type": "code",
   "execution_count": null,
   "id": "b98433f8",
   "metadata": {},
   "outputs": [
    {
     "name": "stdout",
     "output_type": "stream",
     "text": [
      "1\n",
      "8\n",
      "2\n"
     ]
    }
   ],
   "source": [
    "\n",
    "# Access first, middle, and last elements of a list.\n",
    "\n",
    "list=[1,2,3,4,5,8,6,5,4,3,2]\n",
    "\n",
    "print(list[0])\n",
    "print(list[len(list)//2])\n",
    "print(list[len(list)-1])\n",
    "\n"
   ]
  },
  {
   "cell_type": "code",
   "execution_count": 18,
   "id": "f556462e",
   "metadata": {},
   "outputs": [
    {
     "name": "stdout",
     "output_type": "stream",
     "text": [
      "Length Of List = 5\n"
     ]
    }
   ],
   "source": [
    "# Find the length of a list without using len().\n",
    "\n",
    "list=[1,2,3,4,32]\n",
    "count=0\n",
    "for i in list:\n",
    "    count+=1\n",
    "print(\"Length Of List =\",count)\n",
    "\n"
   ]
  },
  {
   "cell_type": "code",
   "execution_count": null,
   "id": "7280eed4",
   "metadata": {},
   "outputs": [],
   "source": [
    "\n"
   ]
  },
  {
   "cell_type": "code",
   "execution_count": 26,
   "id": "88a0892b",
   "metadata": {},
   "outputs": [
    {
     "name": "stdout",
     "output_type": "stream",
     "text": [
      "[1, 2, 15, 3, 4, 2, 300, 2, 3, 3]\n"
     ]
    }
   ],
   "source": [
    "# Insert an elemeex,element)\n",
    "\n",
    "\n",
    "list=[1,2,3,4,2,300,2,3,3]\n",
    "ele=int(input(\"Enter Element= \"))\n",
    "index=int(input(\"Enter Position = \"))\n",
    "list.insert(index,ele)\n",
    "print(list)"
   ]
  },
  {
   "cell_type": "code",
   "execution_count": null,
   "id": "76aadcfe",
   "metadata": {},
   "outputs": [
    {
     "name": "stdout",
     "output_type": "stream",
     "text": [
      "[1, 3, 4, 32, 2, 2, 1, 1, 2, 3]\n"
     ]
    }
   ],
   "source": [
    "# Remove an element by value using remove().\n",
    "\n",
    "list=[1,2,3,4,32,2,2,1,1,2,3]\n",
    "\n",
    "list.remove(2)\n",
    "print(list)\n"
   ]
  },
  {
   "cell_type": "code",
   "execution_count": 8,
   "id": "ac760145",
   "metadata": {},
   "outputs": [
    {
     "name": "stdout",
     "output_type": "stream",
     "text": [
      "[1, 2, 3, 2, 1, 1, 3, 2]\n",
      "[1, 2, 3, 2, 1, 3, 2]\n",
      "[1, 2, 3, 2, 3, 2]\n"
     ]
    }
   ],
   "source": [
    "\n",
    "# Delete an element by index using del.\n",
    "\n",
    "list=[1,2,3,2,1,1,3,2,4]\n",
    "list.pop()\n",
    "print(list)\n",
    "list.pop(4)\n",
    "print(list)\n",
    "del list[4]\n",
    "print(list)\n"
   ]
  },
  {
   "cell_type": "code",
   "execution_count": 15,
   "id": "4fd3652a",
   "metadata": {},
   "outputs": [
    {
     "name": "stdout",
     "output_type": "stream",
     "text": [
      "[1, 3, 3, 5, 12, 21, 22, 32, 32, 42, 344]\n",
      "[344, 42, 32, 32, 22, 21, 12, 5, 3, 3, 1]\n"
     ]
    }
   ],
   "source": [
    "# Sort a list in ascending and descending order.\n",
    "\n",
    "list=[32,32,22,3,1,3,344,21,42,12,5]\n",
    "list.sort()\n",
    "print(list)\n",
    "list.sort(reverse=True)\n",
    "print(list)"
   ]
  },
  {
   "cell_type": "code",
   "execution_count": 1,
   "id": "d7b49b6b",
   "metadata": {},
   "outputs": [
    {
     "name": "stdout",
     "output_type": "stream",
     "text": [
      "[2, 32, 3, 2, 1]\n"
     ]
    }
   ],
   "source": [
    "# Reverse a list using slicing.\n",
    "\n",
    "list=[1,2,3,32,2]\n",
    "print(list[::-1])\n",
    "\n",
    "\n"
   ]
  },
  {
   "cell_type": "code",
   "execution_count": 11,
   "id": "30f50011",
   "metadata": {},
   "outputs": [
    {
     "name": "stdout",
     "output_type": "stream",
     "text": [
      "value =  [1, 2, 3, 11]\n",
      "count =  [1, 3, 2, 1]\n"
     ]
    }
   ],
   "source": [
    "# Count how many times a value appears in the list.\n",
    "\n",
    "list1=[1,2,3,2,11,3,2]\n",
    "list2=[]\n",
    "for i in list1:\n",
    "    if i not in list2:\n",
    "        list2.append(i)\n",
    "count1=[list1.count(x) for x in list2]\n",
    "\n",
    "print(\"value = \",list2)\n",
    "print('count = ',count1)\n",
    "\n",
    "# for i,j in list1,count1:\n",
    "#         print(f\"{i} is no of time = {j}\")\n",
    "\n"
   ]
  },
  {
   "cell_type": "code",
   "execution_count": 15,
   "id": "539aa7ef",
   "metadata": {},
   "outputs": [
    {
     "name": "stdout",
     "output_type": "stream",
     "text": [
      "1\n",
      "2112\n",
      "3511\n"
     ]
    }
   ],
   "source": [
    "# Find the maximum, minimum, and sum of list elements.\n",
    "\n",
    "list=[1,32,133,1233,2112]\n",
    "print(min(list))\n",
    "print(max(list))\n",
    "print(sum(list))"
   ]
  },
  {
   "cell_type": "code",
   "execution_count": null,
   "id": "83783a30",
   "metadata": {},
   "outputs": [
    {
     "name": "stdout",
     "output_type": "stream",
     "text": [
      "[1, 32, 67, 133, 1233, 2112]\n"
     ]
    }
   ],
   "source": [
    "\"\"\"sort the list element based n integer datatype value \"\"\"\n",
    "\n",
    "list=[1,32,67,133,1233,2112]\n",
    "\n",
    "for i in range(len(list)):\n",
    "    for j in range(len(list)):\n",
    "        if list[i]<list[j]:\n",
    "            temp=list[i]\n",
    "            list[i]=list[j]\n",
    "            list[j]=temp\n",
    "print(list)\n"
   ]
  },
  {
   "cell_type": "code",
   "execution_count": 25,
   "id": "76c6e8e7",
   "metadata": {},
   "outputs": [
    {
     "name": "stdout",
     "output_type": "stream",
     "text": [
      "1\n",
      "2112\n",
      "3511\n"
     ]
    }
   ],
   "source": [
    "\"\"\" find minimum element without using min()\"\"\"\n",
    "list=[1,32,133,1233,2112]\n",
    "\n",
    "min=list[4]\n",
    "max=list[0]\n",
    "sum=0\n",
    "for i in list:\n",
    "    if i<min:\n",
    "        min=i\n",
    "    if i>max:\n",
    "        max=i\n",
    "    sum+=i\n",
    "\n",
    "print(min)\n",
    "print(max)\n",
    "print(sum)"
   ]
  },
  {
   "cell_type": "code",
   "execution_count": 29,
   "id": "3ff24c1a",
   "metadata": {},
   "outputs": [
    {
     "name": "stdout",
     "output_type": "stream",
     "text": [
      "[1, 23, 3, 4, 5]\n"
     ]
    }
   ],
   "source": [
    "# Take 5 numbers from user input and store them in a list.\n",
    "\n",
    "list=[]\n",
    "for x in range(5):\n",
    "    num=int(input(\"Enter Number= \"))\n",
    "    list.append(num)\n",
    "print(list)"
   ]
  },
  {
   "cell_type": "code",
   "execution_count": 31,
   "id": "38cb4b33",
   "metadata": {},
   "outputs": [
    {
     "name": "stdout",
     "output_type": "stream",
     "text": [
      "Available\n"
     ]
    }
   ],
   "source": [
    "# Check if an element exists in the list.\n",
    "\n",
    "list=['java','python']\n",
    "if 'python' in list:\n",
    "    print(\"Available\")\n",
    "else:\n",
    "    print(\"Not Available \")"
   ]
  },
  {
   "cell_type": "code",
   "execution_count": 32,
   "id": "5d771d24",
   "metadata": {},
   "outputs": [
    {
     "name": "stdout",
     "output_type": "stream",
     "text": [
      "['java', 'python']\n",
      "['java', 'python']\n",
      "['java', 'python']\n"
     ]
    }
   ],
   "source": [
    "# Copy a list using slicing and using copy().\n",
    "\n",
    "list1=['java','python']\n",
    "list2=list1[:]\n",
    "list3=list1.copy()\n",
    "print(list1)\n",
    "print(list2)\n",
    "print(list3)"
   ]
  },
  {
   "cell_type": "code",
   "execution_count": null,
   "id": "1a454dda",
   "metadata": {},
   "outputs": [],
   "source": []
  }
 ],
 "metadata": {
  "kernelspec": {
   "display_name": "Python 3",
   "language": "python",
   "name": "python3"
  },
  "language_info": {
   "codemirror_mode": {
    "name": "ipython",
    "version": 3
   },
   "file_extension": ".py",
   "mimetype": "text/x-python",
   "name": "python",
   "nbconvert_exporter": "python",
   "pygments_lexer": "ipython3",
   "version": "3.10.12"
  }
 },
 "nbformat": 4,
 "nbformat_minor": 5
}
