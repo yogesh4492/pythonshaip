{
 "cells": [
  {
   "cell_type": "code",
   "execution_count": 24,
   "id": "54d3c4e6",
   "metadata": {},
   "outputs": [
    {
     "name": "stdout",
     "output_type": "stream",
     "text": [
      "[]\n"
     ]
    }
   ],
   "source": [
    "# Create a list of 10 numbers and print it.\n",
    "list=[]\n",
    "for i in range(1,1):\n",
    "    num=int(input(\"ENter Number = \"))\n",
    "    list.append(num)\n",
    "print(list)\n"
   ]
  },
  {
   "cell_type": "code",
   "execution_count": null,
   "id": "b98433f8",
   "metadata": {},
   "outputs": [
    {
     "name": "stdout",
     "output_type": "stream",
     "text": [
      "1\n",
      "8\n",
      "2\n"
     ]
    }
   ],
   "source": [
    "\n",
    "# Access first, middle, and last elements of a list.\n",
    "\n",
    "list=[1,2,3,4,5,8,6,5,4,3,2]\n",
    "\n",
    "print(list[0])\n",
    "print(list[len(list)//2])\n",
    "print(list[len(list)-1])\n",
    "\n"
   ]
  },
  {
   "cell_type": "code",
   "execution_count": 18,
   "id": "f556462e",
   "metadata": {},
   "outputs": [
    {
     "name": "stdout",
     "output_type": "stream",
     "text": [
      "Length Of List = 5\n"
     ]
    }
   ],
   "source": [
    "# Find the length of a list without using len().\n",
    "\n",
    "list=[1,2,3,4,32]\n",
    "count=0\n",
    "for i in list:\n",
    "    count+=1\n",
    "print(\"Length Of List =\",count)\n",
    "\n"
   ]
  },
  {
   "cell_type": "code",
   "execution_count": null,
   "id": "7280eed4",
   "metadata": {},
   "outputs": [],
   "source": [
    "\n"
   ]
  },
  {
   "cell_type": "code",
   "execution_count": 26,
   "id": "88a0892b",
   "metadata": {},
   "outputs": [
    {
     "name": "stdout",
     "output_type": "stream",
     "text": [
      "[1, 2, 15, 3, 4, 2, 300, 2, 3, 3]\n"
     ]
    }
   ],
   "source": [
    "# Insert an elemeex,element)\n",
    "\n",
    "\n",
    "list=[1,2,3,4,2,300,2,3,3]\n",
    "ele=int(input(\"Enter Element= \"))\n",
    "index=int(input(\"Enter Position = \"))\n",
    "list.insert(index,ele)\n",
    "print(list)"
   ]
  },
  {
   "cell_type": "code",
   "execution_count": null,
   "id": "76aadcfe",
   "metadata": {},
   "outputs": [
    {
     "name": "stdout",
     "output_type": "stream",
     "text": [
      "[1, 3, 4, 32, 2, 2, 1, 1, 2, 3]\n"
     ]
    }
   ],
   "source": [
    "# Remove an element by value using remove().\n",
    "\n",
    "list=[1,2,3,4,32,2,2,1,1,2,3]\n",
    "\n",
    "list.remove(2)\n",
    "print(list)\n"
   ]
  },
  {
   "cell_type": "code",
   "execution_count": 8,
   "id": "ac760145",
   "metadata": {},
   "outputs": [
    {
     "name": "stdout",
     "output_type": "stream",
     "text": [
      "[1, 2, 3, 2, 1, 1, 3, 2]\n",
      "[1, 2, 3, 2, 1, 3, 2]\n",
      "[1, 2, 3, 2, 3, 2]\n"
     ]
    }
   ],
   "source": [
    "\n",
    "# Delete an element by index using del.\n",
    "\n",
    "list=[1,2,3,2,1,1,3,2,4]\n",
    "list.pop()\n",
    "print(list)\n",
    "list.pop(4)\n",
    "print(list)\n",
    "del list[4]\n",
    "print(list)\n"
   ]
  },
  {
   "cell_type": "code",
   "execution_count": 15,
   "id": "4fd3652a",
   "metadata": {},
   "outputs": [
    {
     "name": "stdout",
     "output_type": "stream",
     "text": [
      "[1, 3, 3, 5, 12, 21, 22, 32, 32, 42, 344]\n",
      "[344, 42, 32, 32, 22, 21, 12, 5, 3, 3, 1]\n"
     ]
    }
   ],
   "source": [
    "# Sort a list in ascending and descending order.\n",
    "\n",
    "list=[32,32,22,3,1,3,344,21,42,12,5]\n",
    "list.sort()\n",
    "print(list)\n",
    "list.sort(reverse=True)\n",
    "print(list)"
   ]
  },
  {
   "cell_type": "code",
   "execution_count": null,
   "id": "d7b49b6b",
   "metadata": {},
   "outputs": [],
   "source": []
  },
  {
   "cell_type": "code",
   "execution_count": null,
   "id": "30f50011",
   "metadata": {},
   "outputs": [],
   "source": []
  }
 ],
 "metadata": {
  "kernelspec": {
   "display_name": "Python 3",
   "language": "python",
   "name": "python3"
  },
  "language_info": {
   "codemirror_mode": {
    "name": "ipython",
    "version": 3
   },
   "file_extension": ".py",
   "mimetype": "text/x-python",
   "name": "python",
   "nbconvert_exporter": "python",
   "pygments_lexer": "ipython3",
   "version": "3.10.12"
  }
 },
 "nbformat": 4,
 "nbformat_minor": 5
}
