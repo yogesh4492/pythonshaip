{
 "cells": [
  {
   "cell_type": "code",
   "execution_count": 3,
   "id": "ccaf2ee1",
   "metadata": {},
   "outputs": [
    {
     "name": "stdout",
     "output_type": "stream",
     "text": [
      "['java', 'python']\n",
      "['java', 'python']\n"
     ]
    }
   ],
   "source": [
    "# Merge two lists.\n",
    "\n",
    "list1=['java']\n",
    "list2=['python']\n",
    "print(list1+list2)\n",
    "list1.extend(list2)\n",
    "print(list1)"
   ]
  },
  {
   "cell_type": "code",
   "execution_count": 9,
   "id": "07aa0575",
   "metadata": {},
   "outputs": [
    {
     "name": "stdout",
     "output_type": "stream",
     "text": [
      "{1, 2, 3, 43, 222}\n"
     ]
    }
   ],
   "source": [
    "# Remove duplicates from a list using set().\n",
    "\n",
    "list1=[1,2,3,222,2,2,43,3,1]\n",
    "unique=set(list1)\n",
    "# rm_dup=list(unique)\n",
    "print(unique)\n"
   ]
  },
  {
   "cell_type": "code",
   "execution_count": 11,
   "id": "6b623c81",
   "metadata": {},
   "outputs": [
    {
     "name": "stdout",
     "output_type": "stream",
     "text": [
      "[1, 4, 9, 16, 25, 36, 49, 64, 81, 100]\n"
     ]
    }
   ],
   "source": [
    "# Square every number in a list using list comprehension.\n",
    "\n",
    "list1=[x**2 for x in range(1,11)]\n",
    "print(list1)\n"
   ]
  },
  {
   "cell_type": "code",
   "execution_count": null,
   "id": "a6bbab86",
   "metadata": {},
   "outputs": [],
   "source": [
    "# Get common elements from two lists.\n",
    "\n",
    "list1=[x for x in range(1,11)]\n",
    "list2=[x for x in range(5,11)]\n",
    "list3=[]\n",
    "for i in list1:\n",
    "    if i in list2:\n",
    "        list3.append(i)\n"
   ]
  },
  {
   "cell_type": "code",
   "execution_count": 16,
   "id": "170c1386",
   "metadata": {},
   "outputs": [
    {
     "name": "stdout",
     "output_type": "stream",
     "text": [
      "[1]\n"
     ]
    }
   ],
   "source": [
    "# Find elements that are in list1 but not in list2.\n",
    "\n",
    "list1=[1,2,3,2]\n",
    "list2=[2,3,34,54]\n",
    "list3=[]\n",
    "for i in list1:\n",
    "    if i not in list2:\n",
    "        list3.append(i)\n",
    "print(list3)"
   ]
  },
  {
   "cell_type": "code",
   "execution_count": null,
   "id": "2ba7740c",
   "metadata": {},
   "outputs": [],
   "source": [
    "# Find the index of all occurrences of a specific element.\n",
    "\n"
   ]
  },
  {
   "cell_type": "code",
   "execution_count": null,
   "id": "7af4002f",
   "metadata": {},
   "outputs": [],
   "source": [
    "\n",
    "# Replace all negative numbers with zero.\n",
    "\n",
    "# Filter only strings from a mixed-type list.\n",
    "\n",
    "# Flatten a 2D list into a 1D list.\n",
    "\n",
    "# Get unique values and their counts from a list.\n",
    "\n",
    "# Create a new list that contains only elements greater than a given number.\n",
    "\n",
    "# Find the second largest and second smallest element.\n",
    "\n",
    "# Rotate a list by k positions.\n",
    "\n",
    "# Convert a list into a string (e.g. ['a', 'b'] → \"a,b\").\n"
   ]
  }
 ],
 "metadata": {
  "kernelspec": {
   "display_name": "Python 3",
   "language": "python",
   "name": "python3"
  },
  "language_info": {
   "codemirror_mode": {
    "name": "ipython",
    "version": 3
   },
   "file_extension": ".py",
   "mimetype": "text/x-python",
   "name": "python",
   "nbconvert_exporter": "python",
   "pygments_lexer": "ipython3",
   "version": "3.10.12"
  }
 },
 "nbformat": 4,
 "nbformat_minor": 5
}
